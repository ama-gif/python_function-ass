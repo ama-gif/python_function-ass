{
 "cells": [
  {
   "cell_type": "markdown",
   "id": "1fc5a0eb",
   "metadata": {},
   "source": [
    "# THEORY QUS"
   ]
  },
  {
   "cell_type": "markdown",
   "id": "3be931a5",
   "metadata": {},
   "source": [
    "1. What is the difference between a function and a method in Python?\n",
    "\n",
    " Functions are independent blocks of code that can be called from anywhere, while methods are tied to objects or classes and need an object or class instance to be invoked"
   ]
  },
  {
   "cell_type": "markdown",
   "id": "6c976209",
   "metadata": {},
   "source": [
    " 2. Explain the concept of function arguments and parameters in Python"
   ]
  },
  {
   "cell_type": "markdown",
   "id": "67696ea5",
   "metadata": {},
   "source": [
    "In Python, an argument is the value passed to a function when it's called. Fundamentally, parameters are the variables inside a function's parentheses.\n",
    "Arguments provide values for those parameters."
   ]
  },
  {
   "cell_type": "markdown",
   "id": "72877259",
   "metadata": {},
   "source": [
    " 3. What are the different ways to define and call a function in Python"
   ]
  },
  {
   "cell_type": "markdown",
   "id": "5af0f634",
   "metadata": {},
   "source": [
    "define a function with the def keyword, then write the function identifier (name) followed by parentheses and a colon. "
   ]
  },
  {
   "cell_type": "markdown",
   "id": "208952cb",
   "metadata": {},
   "source": [
    "4. What is the purpose of the `return` statement in a Python function"
   ]
  },
  {
   "cell_type": "markdown",
   "id": "79e19254",
   "metadata": {},
   "source": [
    "python return statement is used to return the output from a function. We learned that we can also return a function from another function. Also, expressions are evaluated and then the result is returned from the function"
   ]
  },
  {
   "cell_type": "markdown",
   "id": "96e320e6",
   "metadata": {},
   "source": [
    " 5. What are iterators in Python and how do they differ from iterables?"
   ]
  },
  {
   "cell_type": "markdown",
   "id": "efbecc53",
   "metadata": {},
   "source": [
    "An Iterable is basically an object that any user can iterate over. An Iterator is also an object that helps a user in iterating over another object (that is iterable). We can generate an iterator when we pass the object to the iter() method. We use the __next__() method for iterating."
   ]
  },
  {
   "cell_type": "markdown",
   "id": "757e769d",
   "metadata": {},
   "source": [
    "6. Explain the concept of generators in Python and how they are defined"
   ]
  },
  {
   "cell_type": "markdown",
   "id": "40f15659",
   "metadata": {},
   "source": [
    "In Python, a generator is a function that returns an iterator that produces a sequence of values when iterated over. Generators are useful when we want to produce a large sequence of values, but we don't want to store all of them in memory at once."
   ]
  },
  {
   "cell_type": "markdown",
   "id": "04ae5c53",
   "metadata": {},
   "source": [
    "7. What are the advantages of using generators over regular functions"
   ]
  },
  {
   "cell_type": "markdown",
   "id": "c7710938",
   "metadata": {},
   "source": [
    "Advantages of using Generators\n",
    "Memory is saved as the items are produced when required, unlike normal Python functions. This fact becomes very important when you need to create a huge number of iterators. This is also considered as the biggest advantage of generators. Can be used to produce an infinite number of items."
   ]
  },
  {
   "cell_type": "markdown",
   "id": "cb5f4639",
   "metadata": {},
   "source": [
    " 8. What is a lambda function in Python and when is it typically used"
   ]
  },
  {
   "cell_type": "markdown",
   "id": "33e5b97a",
   "metadata": {},
   "source": [
    "ambda functions are similar to user-defined functions but without a name. They're commonly referred to as anonymous functions. Lambda functions are efficient whenever you want to create a function that will only contain simple expressions – that is, expressions that are usually a single line of a statement.\n"
   ]
  },
  {
   "cell_type": "markdown",
   "id": "72636dc8",
   "metadata": {},
   "source": [
    " 9. Explain the purpose and usage of the `map()` function in Python."
   ]
  },
  {
   "cell_type": "markdown",
   "id": "aa7ae283",
   "metadata": {},
   "source": [
    "Map in Python is a function that works as an iterator to return a result after applying a function to every item of an iterable (tuple, lists, etc.). It is used when you want to apply a single transformation function to all the iterable elements."
   ]
  },
  {
   "cell_type": "markdown",
   "id": "f70bfe2e",
   "metadata": {},
   "source": [
    " 10. What is the difference between `map()`, `reduce()`, and `filter()` functions in Python?"
   ]
  },
  {
   "cell_type": "markdown",
   "id": "e2dbebdf",
   "metadata": {},
   "source": [
    "map() is used to apply a given function to each element of an iterable and returns a new iterable with the results. filter() is used to filter elements from an iterable based on a given condition or function and returns a new iterable with the filtered elements."
   ]
  },
  {
   "cell_type": "markdown",
   "id": "c42a184d",
   "metadata": {},
   "source": [
    "# Practical Questions:"
   ]
  },
  {
   "cell_type": "markdown",
   "id": "ee9ee1ef",
   "metadata": {},
   "source": [
    " 1. Write a Python function that takes a list of numbers as input and returns the sum of all even numbers in the list?\n",
    "    "
   ]
  },
  {
   "cell_type": "code",
   "execution_count": 34,
   "id": "daf2e0a4",
   "metadata": {},
   "outputs": [],
   "source": [
    "def sum_of_even_numbers(numbers):\n",
    "    total = 0\n",
    "    \n",
    "    for num in numbers:\n",
    "        if num % 2 == 0:\n",
    "            # Add the even number to the total sum\n",
    "            total += num\n",
    "    \n",
    "    return total"
   ]
  },
  {
   "cell_type": "code",
   "execution_count": 35,
   "id": "af42ffe6",
   "metadata": {},
   "outputs": [
    {
     "name": "stdout",
     "output_type": "stream",
     "text": [
      "30\n"
     ]
    }
   ],
   "source": [
    "numbers_list = [1, 2, 3, 4, 5, 6, 7, 8, 9, 10]\n",
    "print(sum_of_even_numbers(numbers_list))"
   ]
  },
  {
   "cell_type": "markdown",
   "id": "97190f6c",
   "metadata": {},
   "source": [
    " 2. Create a Python function that accepts a string and returns the reverse of that string"
   ]
  },
  {
   "cell_type": "code",
   "execution_count": 36,
   "id": "495a227f",
   "metadata": {},
   "outputs": [],
   "source": [
    "def reverse_string(input_string):\n",
    "    # Reverse the string using slicing\n",
    "    reversed_string = input_string[::-1]\n",
    "    return reversed_string"
   ]
  },
  {
   "cell_type": "code",
   "execution_count": 37,
   "id": "24a9bdea",
   "metadata": {},
   "outputs": [
    {
     "name": "stdout",
     "output_type": "stream",
     "text": [
      "ramuK , namA\n"
     ]
    }
   ],
   "source": [
    "example_string = \"Aman , Kumar\"\n",
    "print(reverse_string(example_string))"
   ]
  },
  {
   "cell_type": "markdown",
   "id": "a1bdf1ed",
   "metadata": {},
   "source": [
    "3. Implement a Python function that takes a list of integers and returns a new list containing the squares of \n",
    "each number"
   ]
  },
  {
   "cell_type": "code",
   "execution_count": 38,
   "id": "9431eb04",
   "metadata": {},
   "outputs": [],
   "source": [
    "def square_numbers(numbers):\n",
    "    squared_numbers = [num ** 2 for num in numbers]\n",
    "    return squared_numbers"
   ]
  },
  {
   "cell_type": "code",
   "execution_count": 39,
   "id": "54a049ed",
   "metadata": {},
   "outputs": [
    {
     "name": "stdout",
     "output_type": "stream",
     "text": [
      "[1, 4, 9, 16, 25]\n"
     ]
    }
   ],
   "source": [
    "numbers_list = [1, 2, 3, 4, 5]\n",
    "print(square_numbers(numbers_list))"
   ]
  },
  {
   "cell_type": "markdown",
   "id": "78c74a7d",
   "metadata": {},
   "source": [
    " 4. Write a Python function that checks if a given number is prime or not from 1 to 200."
   ]
  },
  {
   "cell_type": "code",
   "execution_count": 40,
   "id": "03706b17",
   "metadata": {},
   "outputs": [],
   "source": [
    "def is_prime(number):\n",
    "    if number <= 1:\n",
    "        return False\n",
    "    if number == 2:\n",
    "        return True\n",
    "    if number % 2 == 0:\n",
    "        return False\n",
    "    for i in range(3, int(number**0.5) + 1, 2):\n",
    "        if number % i == 0:\n",
    "            return False\n",
    "\n",
    "    return True\n"
   ]
  },
  {
   "cell_type": "code",
   "execution_count": 41,
   "id": "398840fc",
   "metadata": {},
   "outputs": [
    {
     "name": "stdout",
     "output_type": "stream",
     "text": [
      "1 is prime: False\n",
      "2 is prime: True\n",
      "3 is prime: True\n",
      "4 is prime: False\n",
      "5 is prime: True\n",
      "6 is prime: False\n",
      "7 is prime: True\n",
      "8 is prime: False\n",
      "9 is prime: False\n",
      "10 is prime: False\n",
      "11 is prime: True\n",
      "12 is prime: False\n",
      "13 is prime: True\n",
      "14 is prime: False\n",
      "15 is prime: False\n",
      "16 is prime: False\n",
      "17 is prime: True\n",
      "18 is prime: False\n",
      "19 is prime: True\n",
      "20 is prime: False\n",
      "21 is prime: False\n",
      "22 is prime: False\n",
      "23 is prime: True\n",
      "24 is prime: False\n",
      "25 is prime: False\n",
      "26 is prime: False\n",
      "27 is prime: False\n",
      "28 is prime: False\n",
      "29 is prime: True\n",
      "30 is prime: False\n",
      "31 is prime: True\n",
      "32 is prime: False\n",
      "33 is prime: False\n",
      "34 is prime: False\n",
      "35 is prime: False\n",
      "36 is prime: False\n",
      "37 is prime: True\n",
      "38 is prime: False\n",
      "39 is prime: False\n",
      "40 is prime: False\n",
      "41 is prime: True\n",
      "42 is prime: False\n",
      "43 is prime: True\n",
      "44 is prime: False\n",
      "45 is prime: False\n",
      "46 is prime: False\n",
      "47 is prime: True\n",
      "48 is prime: False\n",
      "49 is prime: False\n",
      "50 is prime: False\n",
      "51 is prime: False\n",
      "52 is prime: False\n",
      "53 is prime: True\n",
      "54 is prime: False\n",
      "55 is prime: False\n",
      "56 is prime: False\n",
      "57 is prime: False\n",
      "58 is prime: False\n",
      "59 is prime: True\n",
      "60 is prime: False\n",
      "61 is prime: True\n",
      "62 is prime: False\n",
      "63 is prime: False\n",
      "64 is prime: False\n",
      "65 is prime: False\n",
      "66 is prime: False\n",
      "67 is prime: True\n",
      "68 is prime: False\n",
      "69 is prime: False\n",
      "70 is prime: False\n",
      "71 is prime: True\n",
      "72 is prime: False\n",
      "73 is prime: True\n",
      "74 is prime: False\n",
      "75 is prime: False\n",
      "76 is prime: False\n",
      "77 is prime: False\n",
      "78 is prime: False\n",
      "79 is prime: True\n",
      "80 is prime: False\n",
      "81 is prime: False\n",
      "82 is prime: False\n",
      "83 is prime: True\n",
      "84 is prime: False\n",
      "85 is prime: False\n",
      "86 is prime: False\n",
      "87 is prime: False\n",
      "88 is prime: False\n",
      "89 is prime: True\n",
      "90 is prime: False\n",
      "91 is prime: False\n",
      "92 is prime: False\n",
      "93 is prime: False\n",
      "94 is prime: False\n",
      "95 is prime: False\n",
      "96 is prime: False\n",
      "97 is prime: True\n",
      "98 is prime: False\n",
      "99 is prime: False\n",
      "100 is prime: False\n",
      "101 is prime: True\n",
      "102 is prime: False\n",
      "103 is prime: True\n",
      "104 is prime: False\n",
      "105 is prime: False\n",
      "106 is prime: False\n",
      "107 is prime: True\n",
      "108 is prime: False\n",
      "109 is prime: True\n",
      "110 is prime: False\n",
      "111 is prime: False\n",
      "112 is prime: False\n",
      "113 is prime: True\n",
      "114 is prime: False\n",
      "115 is prime: False\n",
      "116 is prime: False\n",
      "117 is prime: False\n",
      "118 is prime: False\n",
      "119 is prime: False\n",
      "120 is prime: False\n",
      "121 is prime: False\n",
      "122 is prime: False\n",
      "123 is prime: False\n",
      "124 is prime: False\n",
      "125 is prime: False\n",
      "126 is prime: False\n",
      "127 is prime: True\n",
      "128 is prime: False\n",
      "129 is prime: False\n",
      "130 is prime: False\n",
      "131 is prime: True\n",
      "132 is prime: False\n",
      "133 is prime: False\n",
      "134 is prime: False\n",
      "135 is prime: False\n",
      "136 is prime: False\n",
      "137 is prime: True\n",
      "138 is prime: False\n",
      "139 is prime: True\n",
      "140 is prime: False\n",
      "141 is prime: False\n",
      "142 is prime: False\n",
      "143 is prime: False\n",
      "144 is prime: False\n",
      "145 is prime: False\n",
      "146 is prime: False\n",
      "147 is prime: False\n",
      "148 is prime: False\n",
      "149 is prime: True\n",
      "150 is prime: False\n",
      "151 is prime: True\n",
      "152 is prime: False\n",
      "153 is prime: False\n",
      "154 is prime: False\n",
      "155 is prime: False\n",
      "156 is prime: False\n",
      "157 is prime: True\n",
      "158 is prime: False\n",
      "159 is prime: False\n",
      "160 is prime: False\n",
      "161 is prime: False\n",
      "162 is prime: False\n",
      "163 is prime: True\n",
      "164 is prime: False\n",
      "165 is prime: False\n",
      "166 is prime: False\n",
      "167 is prime: True\n",
      "168 is prime: False\n",
      "169 is prime: False\n",
      "170 is prime: False\n",
      "171 is prime: False\n",
      "172 is prime: False\n",
      "173 is prime: True\n",
      "174 is prime: False\n",
      "175 is prime: False\n",
      "176 is prime: False\n",
      "177 is prime: False\n",
      "178 is prime: False\n",
      "179 is prime: True\n",
      "180 is prime: False\n",
      "181 is prime: True\n",
      "182 is prime: False\n",
      "183 is prime: False\n",
      "184 is prime: False\n",
      "185 is prime: False\n",
      "186 is prime: False\n",
      "187 is prime: False\n",
      "188 is prime: False\n",
      "189 is prime: False\n",
      "190 is prime: False\n",
      "191 is prime: True\n",
      "192 is prime: False\n",
      "193 is prime: True\n",
      "194 is prime: False\n",
      "195 is prime: False\n",
      "196 is prime: False\n",
      "197 is prime: True\n",
      "198 is prime: False\n",
      "199 is prime: True\n",
      "200 is prime: False\n"
     ]
    }
   ],
   "source": [
    "for num in range(1, 201):\n",
    "    print(f\"{num} is prime: {is_prime(num)}\")"
   ]
  },
  {
   "cell_type": "markdown",
   "id": "34e2ea26",
   "metadata": {},
   "source": [
    " 5. Create an iterator class in Python that generates the Fibonacci sequence up to a specified number of \n",
    "terms"
   ]
  },
  {
   "cell_type": "markdown",
   "id": "f2020da5",
   "metadata": {},
   "source": [
    " 6. Write a generator function in Python that yields the powers of 2 up to a given exponent"
   ]
  },
  {
   "cell_type": "code",
   "execution_count": 42,
   "id": "38a3f563",
   "metadata": {},
   "outputs": [],
   "source": [
    "def powers_of_2(max_exponent):\n",
    "    for exponent in range(max_exponent + 1):\n",
    "        yield 2 ** exponent"
   ]
  },
  {
   "cell_type": "code",
   "execution_count": 43,
   "id": "ad5d57b6",
   "metadata": {},
   "outputs": [
    {
     "name": "stdout",
     "output_type": "stream",
     "text": [
      "1\n",
      "2\n",
      "4\n",
      "8\n",
      "16\n",
      "32\n",
      "64\n",
      "128\n",
      "256\n",
      "512\n",
      "1024\n"
     ]
    }
   ],
   "source": [
    "for power in powers_of_2(10):\n",
    "    print(power)"
   ]
  },
  {
   "cell_type": "markdown",
   "id": "f484f358",
   "metadata": {},
   "source": [
    " 7. Implement a generator function that reads a file line by line and yields each line as a string."
   ]
  },
  {
   "cell_type": "code",
   "execution_count": 44,
   "id": "cc81d4e6",
   "metadata": {},
   "outputs": [],
   "source": [
    "def read_file_line_by_line(file_path):\n",
    "    with open(file_path, 'r') as file:\n",
    "        for line in file:\n",
    "            yield line.strip()"
   ]
  },
  {
   "cell_type": "markdown",
   "id": "98328823",
   "metadata": {},
   "source": [
    " 8. Use a lambda function in Python to sort a list of tuples based on the second element of each tuple."
   ]
  },
  {
   "cell_type": "code",
   "execution_count": 45,
   "id": "1a24f9e7",
   "metadata": {},
   "outputs": [],
   "source": [
    "tuples_list = [(1, 'banana'), (2, 'apple'), (3, 'cherry'), (4, 'date')]"
   ]
  },
  {
   "cell_type": "code",
   "execution_count": 46,
   "id": "bb939a4e",
   "metadata": {},
   "outputs": [],
   "source": [
    "sorted_tuples = sorted(tuples_list, key=lambda x: x[1])"
   ]
  },
  {
   "cell_type": "code",
   "execution_count": 47,
   "id": "2a847f5a",
   "metadata": {},
   "outputs": [
    {
     "name": "stdout",
     "output_type": "stream",
     "text": [
      "[(2, 'apple'), (1, 'banana'), (3, 'cherry'), (4, 'date')]\n"
     ]
    }
   ],
   "source": [
    "print(sorted_tuples)"
   ]
  },
  {
   "cell_type": "markdown",
   "id": "27c224c2",
   "metadata": {},
   "source": [
    "9. Write a Python program that uses `map()` to convert a list of temperatures from Celsius to Fahrenheit."
   ]
  },
  {
   "cell_type": "code",
   "execution_count": 48,
   "id": "742977b5",
   "metadata": {},
   "outputs": [],
   "source": [
    "def celsius_to_fahrenheit(celsius):\n",
    "    return (celsius * 9/5) + 32"
   ]
  },
  {
   "cell_type": "code",
   "execution_count": 49,
   "id": "d01fd338",
   "metadata": {},
   "outputs": [],
   "source": [
    "celsius_temperatures = [0, 20, 37, 100]\n"
   ]
  },
  {
   "cell_type": "code",
   "execution_count": 50,
   "id": "cea8d083",
   "metadata": {},
   "outputs": [],
   "source": [
    "fahrenheit_temperatures = list(map(celsius_to_fahrenheit, celsius_temperatures))\n"
   ]
  },
  {
   "cell_type": "code",
   "execution_count": 51,
   "id": "d5966ad9",
   "metadata": {},
   "outputs": [
    {
     "name": "stdout",
     "output_type": "stream",
     "text": [
      "[32.0, 68.0, 98.6, 212.0]\n"
     ]
    }
   ],
   "source": [
    "print(fahrenheit_temperatures)"
   ]
  },
  {
   "cell_type": "markdown",
   "id": "d98dcc50",
   "metadata": {},
   "source": [
    " 10. Create a Python program that uses `filter()` to remove all the vowels from a given string"
   ]
  },
  {
   "cell_type": "code",
   "execution_count": 52,
   "id": "e49480ca",
   "metadata": {},
   "outputs": [],
   "source": [
    "def is_not_vowel(char):\n",
    "    return char.lower() not in 'aeiou'\n",
    "input_string = \"This is an example string.\"\n",
    "filtered_string = ''.join(filter(is_not_vowel, input_string))"
   ]
  },
  {
   "cell_type": "code",
   "execution_count": 53,
   "id": "b596ad82",
   "metadata": {},
   "outputs": [
    {
     "name": "stdout",
     "output_type": "stream",
     "text": [
      "Ths s n xmpl strng.\n"
     ]
    }
   ],
   "source": [
    "print(filtered_string)"
   ]
  },
  {
   "cell_type": "code",
   "execution_count": null,
   "id": "0958ba95",
   "metadata": {},
   "outputs": [],
   "source": []
  },
  {
   "cell_type": "code",
   "execution_count": null,
   "id": "303ffe22",
   "metadata": {},
   "outputs": [],
   "source": []
  }
 ],
 "metadata": {
  "kernelspec": {
   "display_name": "Python 3 (ipykernel)",
   "language": "python",
   "name": "python3"
  },
  "language_info": {
   "codemirror_mode": {
    "name": "ipython",
    "version": 3
   },
   "file_extension": ".py",
   "mimetype": "text/x-python",
   "name": "python",
   "nbconvert_exporter": "python",
   "pygments_lexer": "ipython3",
   "version": "3.11.5"
  }
 },
 "nbformat": 4,
 "nbformat_minor": 5
}
